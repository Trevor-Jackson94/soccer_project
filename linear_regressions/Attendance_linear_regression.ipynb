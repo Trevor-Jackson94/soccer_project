{
 "cells": [
  {
   "cell_type": "code",
   "execution_count": 1,
   "id": "79fb39a1",
   "metadata": {},
   "outputs": [],
   "source": [
    "import numpy as np\n",
    "from sklearn.linear_model import LinearRegression\n",
    "import matplotlib.pyplot as plt\n",
    "import pandas as pd\n"
   ]
  },
  {
   "cell_type": "code",
   "execution_count": 2,
   "id": "2dfb74d7",
   "metadata": {},
   "outputs": [],
   "source": [
    "df = pd.read_csv(\"2017_2022_PL_Standings.csv\", encoding='latin')"
   ]
  },
  {
   "cell_type": "code",
   "execution_count": 3,
   "id": "ebef5cd7",
   "metadata": {},
   "outputs": [
    {
     "data": {
      "text/html": [
       "<div>\n",
       "<style scoped>\n",
       "    .dataframe tbody tr th:only-of-type {\n",
       "        vertical-align: middle;\n",
       "    }\n",
       "\n",
       "    .dataframe tbody tr th {\n",
       "        vertical-align: top;\n",
       "    }\n",
       "\n",
       "    .dataframe thead th {\n",
       "        text-align: right;\n",
       "    }\n",
       "</style>\n",
       "<table border=\"1\" class=\"dataframe\">\n",
       "  <thead>\n",
       "    <tr style=\"text-align: right;\">\n",
       "      <th></th>\n",
       "      <th>Year_End</th>\n",
       "      <th>Rk</th>\n",
       "      <th>Squad</th>\n",
       "      <th>MP</th>\n",
       "      <th>W</th>\n",
       "      <th>D</th>\n",
       "      <th>L</th>\n",
       "      <th>GF</th>\n",
       "      <th>GA</th>\n",
       "      <th>GD</th>\n",
       "      <th>Pts</th>\n",
       "      <th>Pts/MP</th>\n",
       "      <th>xG</th>\n",
       "      <th>xGA</th>\n",
       "      <th>xGD</th>\n",
       "      <th>xGD/90</th>\n",
       "      <th>Attendance</th>\n",
       "      <th>Top Team Scorer</th>\n",
       "      <th>Goalkeeper</th>\n",
       "      <th>Notes</th>\n",
       "    </tr>\n",
       "  </thead>\n",
       "  <tbody>\n",
       "    <tr>\n",
       "      <th>0</th>\n",
       "      <td>2018</td>\n",
       "      <td>1</td>\n",
       "      <td>Manchester City</td>\n",
       "      <td>38</td>\n",
       "      <td>32</td>\n",
       "      <td>4</td>\n",
       "      <td>2</td>\n",
       "      <td>106</td>\n",
       "      <td>27</td>\n",
       "      <td>79</td>\n",
       "      <td>100</td>\n",
       "      <td>2.63</td>\n",
       "      <td>86.4</td>\n",
       "      <td>22.8</td>\n",
       "      <td>63.6</td>\n",
       "      <td>1.67</td>\n",
       "      <td>54070</td>\n",
       "      <td>Sergio Agüero - 21</td>\n",
       "      <td>Ederson</td>\n",
       "      <td>? Champions League via league finish</td>\n",
       "    </tr>\n",
       "    <tr>\n",
       "      <th>1</th>\n",
       "      <td>2018</td>\n",
       "      <td>2</td>\n",
       "      <td>Manchester Utd</td>\n",
       "      <td>38</td>\n",
       "      <td>25</td>\n",
       "      <td>6</td>\n",
       "      <td>7</td>\n",
       "      <td>68</td>\n",
       "      <td>28</td>\n",
       "      <td>40</td>\n",
       "      <td>81</td>\n",
       "      <td>2.13</td>\n",
       "      <td>60.7</td>\n",
       "      <td>41.7</td>\n",
       "      <td>18.9</td>\n",
       "      <td>0.50</td>\n",
       "      <td>74976</td>\n",
       "      <td>Romelu Lukaku - 16</td>\n",
       "      <td>David de Gea</td>\n",
       "      <td>? Champions League via league finish</td>\n",
       "    </tr>\n",
       "    <tr>\n",
       "      <th>2</th>\n",
       "      <td>2018</td>\n",
       "      <td>3</td>\n",
       "      <td>Tottenham</td>\n",
       "      <td>38</td>\n",
       "      <td>23</td>\n",
       "      <td>8</td>\n",
       "      <td>7</td>\n",
       "      <td>74</td>\n",
       "      <td>36</td>\n",
       "      <td>38</td>\n",
       "      <td>77</td>\n",
       "      <td>2.03</td>\n",
       "      <td>67.3</td>\n",
       "      <td>35.0</td>\n",
       "      <td>32.3</td>\n",
       "      <td>0.85</td>\n",
       "      <td>67953</td>\n",
       "      <td>Harry Kane - 30</td>\n",
       "      <td>Hugo Lloris</td>\n",
       "      <td>? Champions League via league finish</td>\n",
       "    </tr>\n",
       "    <tr>\n",
       "      <th>3</th>\n",
       "      <td>2018</td>\n",
       "      <td>4</td>\n",
       "      <td>Liverpool</td>\n",
       "      <td>38</td>\n",
       "      <td>21</td>\n",
       "      <td>12</td>\n",
       "      <td>5</td>\n",
       "      <td>84</td>\n",
       "      <td>38</td>\n",
       "      <td>46</td>\n",
       "      <td>75</td>\n",
       "      <td>1.97</td>\n",
       "      <td>72.8</td>\n",
       "      <td>34.0</td>\n",
       "      <td>38.8</td>\n",
       "      <td>1.02</td>\n",
       "      <td>53049</td>\n",
       "      <td>Mohamed Salah - 32</td>\n",
       "      <td>Loris Karius, Simon Mignolet</td>\n",
       "      <td>? Champions League via league finish</td>\n",
       "    </tr>\n",
       "    <tr>\n",
       "      <th>4</th>\n",
       "      <td>2018</td>\n",
       "      <td>5</td>\n",
       "      <td>Chelsea</td>\n",
       "      <td>38</td>\n",
       "      <td>21</td>\n",
       "      <td>7</td>\n",
       "      <td>10</td>\n",
       "      <td>62</td>\n",
       "      <td>38</td>\n",
       "      <td>24</td>\n",
       "      <td>70</td>\n",
       "      <td>1.84</td>\n",
       "      <td>57.9</td>\n",
       "      <td>35.3</td>\n",
       "      <td>22.7</td>\n",
       "      <td>0.60</td>\n",
       "      <td>41282</td>\n",
       "      <td>Eden Hazard - 12</td>\n",
       "      <td>Thibaut Courtois</td>\n",
       "      <td>? Europa League via cup win 1</td>\n",
       "    </tr>\n",
       "  </tbody>\n",
       "</table>\n",
       "</div>"
      ],
      "text/plain": [
       "   Year_End  Rk            Squad  MP   W   D   L   GF  GA  GD  Pts  Pts/MP  \\\n",
       "0      2018   1  Manchester City  38  32   4   2  106  27  79  100    2.63   \n",
       "1      2018   2   Manchester Utd  38  25   6   7   68  28  40   81    2.13   \n",
       "2      2018   3        Tottenham  38  23   8   7   74  36  38   77    2.03   \n",
       "3      2018   4        Liverpool  38  21  12   5   84  38  46   75    1.97   \n",
       "4      2018   5          Chelsea  38  21   7  10   62  38  24   70    1.84   \n",
       "\n",
       "     xG   xGA   xGD  xGD/90  Attendance     Top Team Scorer  \\\n",
       "0  86.4  22.8  63.6    1.67       54070  Sergio Agüero - 21   \n",
       "1  60.7  41.7  18.9    0.50       74976  Romelu Lukaku - 16   \n",
       "2  67.3  35.0  32.3    0.85       67953     Harry Kane - 30   \n",
       "3  72.8  34.0  38.8    1.02       53049  Mohamed Salah - 32   \n",
       "4  57.9  35.3  22.7    0.60       41282    Eden Hazard - 12   \n",
       "\n",
       "                     Goalkeeper                                 Notes  \n",
       "0                       Ederson  ? Champions League via league finish  \n",
       "1                  David de Gea  ? Champions League via league finish  \n",
       "2                   Hugo Lloris  ? Champions League via league finish  \n",
       "3  Loris Karius, Simon Mignolet  ? Champions League via league finish  \n",
       "4              Thibaut Courtois         ? Europa League via cup win 1  "
      ]
     },
     "execution_count": 3,
     "metadata": {},
     "output_type": "execute_result"
    }
   ],
   "source": [
    "df.head()"
   ]
  },
  {
   "cell_type": "code",
   "execution_count": 4,
   "id": "babcfb97",
   "metadata": {},
   "outputs": [],
   "source": [
    "y=df.Rk\n",
    "x=df.Attendance.values.reshape(-1,1)"
   ]
  },
  {
   "cell_type": "code",
   "execution_count": 5,
   "id": "cc66ca96",
   "metadata": {},
   "outputs": [
    {
     "data": {
      "text/plain": [
       "(100, 1)"
      ]
     },
     "execution_count": 5,
     "metadata": {},
     "output_type": "execute_result"
    }
   ],
   "source": [
    "x.shape"
   ]
  },
  {
   "cell_type": "code",
   "execution_count": 6,
   "id": "a6afeedd",
   "metadata": {},
   "outputs": [
    {
     "data": {
      "text/plain": [
       "(100,)"
      ]
     },
     "execution_count": 6,
     "metadata": {},
     "output_type": "execute_result"
    }
   ],
   "source": [
    "y.shape"
   ]
  },
  {
   "cell_type": "code",
   "execution_count": 7,
   "id": "861800ea",
   "metadata": {},
   "outputs": [],
   "source": [
    "model = LinearRegression().fit(x,y)"
   ]
  },
  {
   "cell_type": "code",
   "execution_count": 8,
   "id": "afc87b36",
   "metadata": {},
   "outputs": [],
   "source": [
    "r_sq = model.score(x,y)\n",
    "intercept = model.intercept_\n",
    "slope = model.coef_"
   ]
  },
  {
   "cell_type": "code",
   "execution_count": 9,
   "id": "88e9585b",
   "metadata": {},
   "outputs": [],
   "source": [
    "y_pred = intercept + slope*x"
   ]
  },
  {
   "cell_type": "code",
   "execution_count": 10,
   "id": "9a16c91e",
   "metadata": {},
   "outputs": [
    {
     "data": {
      "text/plain": [
       "Text(0, 0.5, 'Final League Rank')"
      ]
     },
     "execution_count": 10,
     "metadata": {},
     "output_type": "execute_result"
    },
    {
     "data": {
      "image/png": "[encoded data removed]",
      "text/plain": [
       "<Figure size 720x720 with 1 Axes>"
      ]
     },
     "metadata": {},
     "output_type": "display_data"
    }
   ],
   "source": [
    "fig,ax = plt.subplots(figsize=(10,10))\n",
    "fig.set_facecolor('#f3edd3')\n",
    "ax.patch.set_facecolor('#f3edd3')\n",
    "\n",
    "ax.grid(ls='dotted',lw=.5,color='lightgrey',axis='y',zorder=1)\n",
    "spines = ['top','right']\n",
    "for i in spines:\n",
    "    if i in spines:\n",
    "        ax.spines[i].set_visible(False)\n",
    "\n",
    "#plot data\n",
    "plt.scatter(x,y,alpha=.7)\n",
    "plt.plot(x,y_pred,c='red',linestyle='--',dashes=(5,5))\n",
    "\n",
    "\n",
    "plt.ylim(.5,20.5)\n",
    "plt.gca().invert_yaxis()\n",
    "\n",
    "plt.yticks([1,2,3,4,5,6,7,8,9,10,11,12,13,14,15,16,17,18,19,20])\n",
    "plt.xlabel('Attendance',fontsize=18)\n",
    "plt.ylabel('Final League Rank',fontsize=18)"
   ]
  },
  {
   "cell_type": "code",
   "execution_count": 11,
   "id": "2dfa15dc",
   "metadata": {},
   "outputs": [
    {
     "name": "stdout",
     "output_type": "stream",
     "text": [
      "[-0.00011319]\n",
      "13.811709939861734\n",
      "0.15846314148638874\n"
     ]
    }
   ],
   "source": [
    "print(model.coef_)\n",
    "print(model.intercept_)\n",
    "print(r_sq)"
   ]
  },
  {
   "cell_type": "code",
   "execution_count": null,
   "id": "8ee4cde0",
   "metadata": {},
   "outputs": [],
   "source": []
  }
 ],
 "metadata": {
  "kernelspec": {
   "display_name": "mlenv",
   "language": "python",
   "name": "mlenv"
  },
  "language_info": {
   "codemirror_mode": {
    "name": "ipython",
    "version": 3
   },
   "file_extension": ".py",
   "mimetype": "text/x-python",
   "name": "python",
   "nbconvert_exporter": "python",
   "pygments_lexer": "ipython3",
   "version": "3.7.13"
  }
 },
 "nbformat": 4,
 "nbformat_minor": 5
}
